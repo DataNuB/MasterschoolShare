{
 "cells": [
  {
   "cell_type": "markdown",
   "id": "f2a048dd",
   "metadata": {},
   "source": [
    "Use the following numbers list for the exercises 1, 2, 3 and 4."
   ]
  },
  {
   "cell_type": "code",
   "execution_count": 1,
   "id": "a8eabefd",
   "metadata": {},
   "outputs": [],
   "source": [
    "numbers = [1, 3, 4, 5, 7, 8, 9, 11, 13, 20, 24, 30]"
   ]
  },
  {
   "cell_type": "markdown",
   "id": "e66739d3",
   "metadata": {},
   "source": [
    "1. Go through the numbers list and print out each number.\n",
    "2. Go through the numbers list and print out each number only if it’s an odd number. Hint: You’ll probably need the modulo operator!\n",
    "3. Write a loop that sums up all the numbers in the list. Hint: You will need an extra variable to keep track of the total.\n",
    "4. Write a for loop in order to find the maximum value within the list. Hint: Again, you’ll need an extra variable to keep track of the current maximum.\n",
    "5. Write a program that prints all the even numbers from 2 to 20 (inclusive) using a while loop. Then do the same thing with a for loop and the range function."
   ]
  },
  {
   "cell_type": "code",
   "execution_count": 4,
   "id": "a4c2e45f",
   "metadata": {},
   "outputs": [
    {
     "name": "stdout",
     "output_type": "stream",
     "text": [
      "1\n",
      "3\n",
      "4\n",
      "5\n",
      "7\n",
      "8\n",
      "9\n",
      "11\n",
      "13\n",
      "20\n",
      "24\n",
      "30\n"
     ]
    }
   ],
   "source": [
    "for i in numbers: \n",
    "    print(i)"
   ]
  },
  {
   "cell_type": "code",
   "execution_count": 7,
   "id": "6ed1e013",
   "metadata": {},
   "outputs": [
    {
     "name": "stdout",
     "output_type": "stream",
     "text": [
      "1\n",
      "3\n",
      "5\n",
      "7\n",
      "9\n",
      "11\n",
      "13\n"
     ]
    }
   ],
   "source": [
    "for i in numbers:\n",
    "    if i%2 == 1:\n",
    "        print(i)"
   ]
  },
  {
   "cell_type": "code",
   "execution_count": 8,
   "id": "bd7a5d02",
   "metadata": {},
   "outputs": [
    {
     "name": "stdout",
     "output_type": "stream",
     "text": [
      "135\n"
     ]
    }
   ],
   "source": [
    "#Write a loop that sums up all the numbers in the list. Hint: You will need an extra variable to keep track of the total.\n",
    "total = 0\n",
    "for i in numbers:\n",
    "    total = total+i\n",
    "print(total)"
   ]
  },
  {
   "cell_type": "code",
   "execution_count": 9,
   "id": "b8a48dfe",
   "metadata": {},
   "outputs": [
    {
     "name": "stdout",
     "output_type": "stream",
     "text": [
      "30\n"
     ]
    }
   ],
   "source": [
    "#Write a for loop in order to find the maximum value within the list. \n",
    "#Hint: Again, you’ll need an extra variable to keep track of the current maximum.\n",
    "max = 0\n",
    "for i in numbers:\n",
    "    if i > max:\n",
    "        max = i\n",
    "print(max)\n",
    "        "
   ]
  },
  {
   "cell_type": "code",
   "execution_count": 11,
   "id": "45bb87e5",
   "metadata": {},
   "outputs": [
    {
     "name": "stdout",
     "output_type": "stream",
     "text": [
      "2\n",
      "4\n",
      "6\n",
      "8\n",
      "10\n",
      "12\n",
      "14\n",
      "16\n",
      "18\n",
      "20\n",
      "2\n",
      "4\n",
      "6\n",
      "8\n",
      "10\n",
      "12\n",
      "14\n",
      "16\n",
      "18\n",
      "20\n"
     ]
    }
   ],
   "source": [
    "#Write a program that prints all the even numbers from 2 to 20 (inclusive) using a while loop.\n",
    "#Then do the same thing with a for loop and the range function.\n",
    "i = 2\n",
    "while i <=20:    \n",
    "    print(i)\n",
    "    i+=2\n",
    "\n",
    "for i in range(2, 21, 2):\n",
    "    print(i)"
   ]
  },
  {
   "cell_type": "code",
   "execution_count": 13,
   "id": "4ae73501",
   "metadata": {},
   "outputs": [],
   "source": [
    "fruit_prices = {\n",
    "    \"apple\": 0.99,\n",
    "    \"banana\": 0.59,\n",
    "    \"cherry\": 2.99,\n",
    "    \"orange\": 1.29,\n",
    "    \"grapes\": 2.49\n",
    "}"
   ]
  },
  {
   "cell_type": "markdown",
   "id": "a082c439",
   "metadata": {},
   "source": [
    "Write a for loop that prints each key-value pair on a separate line. The output should be in the format: “Key: {key}, Value: {value}“.\n",
    "Y final code output should look like this:\n",
    "\n",
    "Key: apple, Value: 0.99\n",
    "Key: banana, Value: 0.59\n",
    "Key: cherry, Value: 2.99\n",
    "Key: orange, Value: 1.29\n",
    "Key: grapes, Value: 2.49"
   ]
  },
  {
   "cell_type": "code",
   "execution_count": 16,
   "id": "92ddbfe5",
   "metadata": {},
   "outputs": [
    {
     "name": "stdout",
     "output_type": "stream",
     "text": [
      "Key: apple, Value: 0.99\n",
      "Key: banana, Value: 0.59\n",
      "Key: cherry, Value: 2.99\n",
      "Key: orange, Value: 1.29\n",
      "Key: grapes, Value: 2.49\n"
     ]
    }
   ],
   "source": [
    "for fruit, price in fruit_prices.items():\n",
    "    print(f\"Key: {fruit}, Value: {price}\")"
   ]
  },
  {
   "cell_type": "markdown",
   "id": "25e7ad30",
   "metadata": {},
   "source": [
    "7. Advanced (Bonus!) Given the following list of dictionaries, where each dictionary represents a student with keys ‘name’ and ‘grade’, write a program that prints the name and grade of each student using a for loop.\n",
    "\n",
    "students = [\n",
    "\n",
    "    {\"name\": \"Alice\", \"grade\": 85},\n",
    "    \n",
    "    {\"name\": \"Bob\", \"grade\": 78},\n",
    "    \n",
    "    {\"name\": \"Charlie\", \"grade\": 92},\n",
    "    \n",
    "    {\"name\": \"David\", \"grade\": 88},\n",
    "    \n",
    "    {\"name\": \"Eve\", \"grade\": 73}\n",
    "    \n",
    "]\n",
    "Your output should look like this:\n",
    "\n",
    "Alice: 85\n",
    "Bob: 78\n",
    "Charlie: 92\n",
    "David: 88\n",
    "Eve: 73"
   ]
  },
  {
   "cell_type": "code",
   "execution_count": 18,
   "id": "a6d714da",
   "metadata": {},
   "outputs": [
    {
     "name": "stdout",
     "output_type": "stream",
     "text": [
      "Name: Alice, Grade: 85\n",
      "Name: Bob, Grade: 78\n",
      "Name: Charlie, Grade: 92\n",
      "Name: David, Grade: 88\n",
      "Name: Eve, Grade: 73\n"
     ]
    }
   ],
   "source": [
    "students = [\n",
    "    {\"name\": \"Alice\", \"grade\": 85},\n",
    "    {\"name\": \"Bob\", \"grade\": 78},\n",
    "    {\"name\": \"Charlie\", \"grade\": 92},\n",
    "    {\"name\": \"David\", \"grade\": 88},\n",
    "    {\"name\": \"Eve\", \"grade\": 73}\n",
    "]\n",
    "\n",
    "for student in students:\n",
    "    print(f\"Name: {student['name']}, Grade: {student['grade']}\")"
   ]
  },
  {
   "cell_type": "markdown",
   "id": "b6eda05d",
   "metadata": {},
   "source": [
    "Given the following Pandas DataFrame representing the heights (in cm) of five people:\n",
    "\n",
    "import pandas as pd\n",
    "\n",
    "data = {\n",
    "\n",
    "    \"Name\": [\"Alice\", \"Bob\", \"Charlie\", \"Ava\", \"Eve\"],\n",
    "    \n",
    "    \"Height\": [163, 175, 182, 171, 169]\n",
    "}\n",
    "\n",
    "heights_df = pd.DataFrame(data)\n",
    "\n",
    "Write a program that iterates through the DataFrame using iterrows() \n",
    "and prints the names of people whose height is greater than or equal to 170 cm."
   ]
  },
  {
   "cell_type": "code",
   "execution_count": 19,
   "id": "c79f4af0",
   "metadata": {},
   "outputs": [],
   "source": [
    "import pandas as pd\n",
    "data = {\n",
    "\"Name\": [\"Alice\", \"Bob\", \"Charlie\", \"Ava\", \"Eve\"],\n",
    "\"Height\": [163, 175, 182, 171, 169]\n",
    "}\n",
    "heights_df = pd.DataFrame(data)"
   ]
  },
  {
   "cell_type": "code",
   "execution_count": 20,
   "id": "cbfb2a2a",
   "metadata": {},
   "outputs": [
    {
     "name": "stdout",
     "output_type": "stream",
     "text": [
      "Bob\n",
      "Charlie\n",
      "Ava\n"
     ]
    }
   ],
   "source": [
    "for index, row in heights_df.iterrows():\n",
    "    if row[\"Height\"] >= 170:\n",
    "        print(row[\"Name\"])"
   ]
  }
 ],
 "metadata": {
  "kernelspec": {
   "display_name": "Python 3 (ipykernel)",
   "language": "python",
   "name": "python3"
  },
  "language_info": {
   "codemirror_mode": {
    "name": "ipython",
    "version": 3
   },
   "file_extension": ".py",
   "mimetype": "text/x-python",
   "name": "python",
   "nbconvert_exporter": "python",
   "pygments_lexer": "ipython3",
   "version": "3.10.9"
  }
 },
 "nbformat": 4,
 "nbformat_minor": 5
}
